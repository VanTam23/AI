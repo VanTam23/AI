{
  "nbformat": 4,
  "nbformat_minor": 0,
  "metadata": {
    "colab": {
      "name": "CNN_CiFar10",
      "provenance": [],
      "collapsed_sections": [],
      "authorship_tag": "ABX9TyMyefsa/iuX6S0dBrVnDzkc",
      "include_colab_link": true
    },
    "kernelspec": {
      "name": "python3",
      "display_name": "Python 3"
    },
    "language_info": {
      "name": "python"
    }
  },
  "cells": [
    {
      "cell_type": "markdown",
      "metadata": {
        "id": "view-in-github",
        "colab_type": "text"
      },
      "source": [
        "<a href=\"https://colab.research.google.com/github/VanTam23/AI/blob/main/CNN_CiFar10.ipynb\" target=\"_parent\"><img src=\"https://colab.research.google.com/assets/colab-badge.svg\" alt=\"Open In Colab\"/></a>"
      ]
    },
    {
      "cell_type": "code",
      "execution_count": 3,
      "metadata": {
        "id": "VH3oAcTPrL0k"
      },
      "outputs": [],
      "source": [
        "import numpy as np\n",
        "import pandas as pd\n",
        "from keras.utils import np_utils\n",
        "import matplotlib.pyplot as plt\n",
        "from keras.layers import Dense\n",
        "from IPython.core.pylabtools import figsize\n",
        "from keras import metrics\n",
        "from keras.callbacks import EarlyStopping \n",
        "from sklearn.preprocessing import scale\n",
        "from keras.datasets import mnist\n",
        "from keras.models import Sequential\n",
        "from keras.layers import Dense, Dropout\n",
        "from tensorflow.keras.optimizers import RMSprop\n",
        "from sklearn.preprocessing import StandardScaler\n",
        "import sklearn\n",
        "from keras.layers import Dense, Activation, Dropout,Flatten, Conv2D\n",
        "from tensorflow.keras.utils import to_categorical \n",
        "from keras.layers.pooling import MaxPooling2D\n",
        "from keras.layers import Conv2D\n",
        "from tensorflow.keras.optimizers import Adam, RMSprop,SGD\n",
        "from keras.datasets import cifar10"
      ]
    },
    {
      "cell_type": "code",
      "source": [
        "(x_train, y_train), (x_test, y_test) =cifar10.load_data()\n",
        "x_pre = x_test\n",
        "x_train = x_train.reshape(50000, 32,32,3)\n",
        "x_test = x_test.reshape(10000, 32,32,3)\n",
        "x_train = x_train.astype('float32')\n",
        "x_test = x_test.astype('float32')\n",
        "x_train/=255\n",
        "x_test/=255\n",
        "y_train = np_utils.to_categorical(y_train, 10)  \n",
        "y_test = np_utils.to_categorical(y_test, 10) "
      ],
      "metadata": {
        "id": "rumTQtIBrdA9"
      },
      "execution_count": 9,
      "outputs": []
    },
    {
      "cell_type": "code",
      "source": [
        "model = Sequential()\n",
        "model.add(Conv2D(32,(3,3),activation = 'relu', kernel_initializer='he_uniform',padding='same',input_shape=(32,32,3 )))\n",
        "model.add(MaxPooling2D(2,2))\n",
        "model.add(Conv2D(64,(3,3),activation = 'relu', kernel_initializer='he_uniform',padding='same'))\n",
        "model.add(MaxPooling2D(2,2))\n",
        "model.add(Conv2D(128,(3,3),activation = 'relu', kernel_initializer='he_uniform',padding='same'))\n",
        "model.add(MaxPooling2D(2,2))\n",
        "model.add(Flatten())"
      ],
      "metadata": {
        "id": "6czKV8lErj1a"
      },
      "execution_count": 14,
      "outputs": []
    },
    {
      "cell_type": "code",
      "source": [
        "model.add(Dense(64,activation='relu',kernel_initializer='he_uniform'))\n",
        "model.add(Dense(128,activation='relu',kernel_initializer='he_uniform'))\n",
        "model.add(Dense(10,activation='softmax'))\n",
        "model.summary()"
      ],
      "metadata": {
        "colab": {
          "base_uri": "https://localhost:8080/"
        },
        "id": "E8UafOk4sSKG",
        "outputId": "b57ae211-3c52-4483-e355-8e97e0d662c2"
      },
      "execution_count": 15,
      "outputs": [
        {
          "output_type": "stream",
          "name": "stdout",
          "text": [
            "Model: \"sequential_1\"\n",
            "_________________________________________________________________\n",
            " Layer (type)                Output Shape              Param #   \n",
            "=================================================================\n",
            " conv2d_3 (Conv2D)           (None, 32, 32, 32)        896       \n",
            "                                                                 \n",
            " max_pooling2d_3 (MaxPooling  (None, 16, 16, 32)       0         \n",
            " 2D)                                                             \n",
            "                                                                 \n",
            " conv2d_4 (Conv2D)           (None, 16, 16, 64)        18496     \n",
            "                                                                 \n",
            " max_pooling2d_4 (MaxPooling  (None, 8, 8, 64)         0         \n",
            " 2D)                                                             \n",
            "                                                                 \n",
            " conv2d_5 (Conv2D)           (None, 8, 8, 128)         73856     \n",
            "                                                                 \n",
            " max_pooling2d_5 (MaxPooling  (None, 4, 4, 128)        0         \n",
            " 2D)                                                             \n",
            "                                                                 \n",
            " flatten_1 (Flatten)         (None, 2048)              0         \n",
            "                                                                 \n",
            " dense_3 (Dense)             (None, 64)                131136    \n",
            "                                                                 \n",
            " dense_4 (Dense)             (None, 128)               8320      \n",
            "                                                                 \n",
            " dense_5 (Dense)             (None, 10)                1290      \n",
            "                                                                 \n",
            "=================================================================\n",
            "Total params: 233,994\n",
            "Trainable params: 233,994\n",
            "Non-trainable params: 0\n",
            "_________________________________________________________________\n"
          ]
        }
      ]
    },
    {
      "cell_type": "code",
      "source": [
        "model.compile(optimizer=SGD(), loss='categorical_crossentropy', metrics=['accuracy'])\n",
        "history = model.fit(x_train, y_train, epochs=12, batch_size=128, validation_data=(x_test, y_test))"
      ],
      "metadata": {
        "colab": {
          "base_uri": "https://localhost:8080/"
        },
        "id": "R43prNGlsZub",
        "outputId": "3e97e0fc-aa4e-4ce0-c86e-d7d6f87c51c5"
      },
      "execution_count": 16,
      "outputs": [
        {
          "output_type": "stream",
          "name": "stdout",
          "text": [
            "Epoch 1/12\n",
            "391/391 [==============================] - 127s 322ms/step - loss: 1.9906 - accuracy: 0.2875 - val_loss: 1.7593 - val_accuracy: 0.3714\n",
            "Epoch 2/12\n",
            "391/391 [==============================] - 120s 308ms/step - loss: 1.6762 - accuracy: 0.4029 - val_loss: 1.5520 - val_accuracy: 0.4459\n",
            "Epoch 3/12\n",
            "391/391 [==============================] - 121s 308ms/step - loss: 1.5299 - accuracy: 0.4544 - val_loss: 1.4345 - val_accuracy: 0.4774\n",
            "Epoch 4/12\n",
            "391/391 [==============================] - 120s 306ms/step - loss: 1.4324 - accuracy: 0.4890 - val_loss: 1.4119 - val_accuracy: 0.5039\n",
            "Epoch 5/12\n",
            "391/391 [==============================] - 119s 304ms/step - loss: 1.3544 - accuracy: 0.5160 - val_loss: 1.3182 - val_accuracy: 0.5291\n",
            "Epoch 6/12\n",
            "391/391 [==============================] - 119s 304ms/step - loss: 1.2907 - accuracy: 0.5410 - val_loss: 1.2583 - val_accuracy: 0.5483\n",
            "Epoch 7/12\n",
            "391/391 [==============================] - 119s 305ms/step - loss: 1.2335 - accuracy: 0.5602 - val_loss: 1.2420 - val_accuracy: 0.5579\n",
            "Epoch 8/12\n",
            "391/391 [==============================] - 119s 305ms/step - loss: 1.1872 - accuracy: 0.5790 - val_loss: 1.1758 - val_accuracy: 0.5863\n",
            "Epoch 9/12\n",
            "391/391 [==============================] - 120s 306ms/step - loss: 1.1427 - accuracy: 0.5948 - val_loss: 1.1243 - val_accuracy: 0.6025\n",
            "Epoch 10/12\n",
            "391/391 [==============================] - 119s 305ms/step - loss: 1.1033 - accuracy: 0.6089 - val_loss: 1.1135 - val_accuracy: 0.6071\n",
            "Epoch 11/12\n",
            "391/391 [==============================] - 117s 300ms/step - loss: 1.0648 - accuracy: 0.6269 - val_loss: 1.1069 - val_accuracy: 0.6061\n",
            "Epoch 12/12\n",
            "391/391 [==============================] - 118s 302ms/step - loss: 1.0307 - accuracy: 0.6381 - val_loss: 1.0887 - val_accuracy: 0.6090\n"
          ]
        }
      ]
    },
    {
      "cell_type": "code",
      "source": [
        "score = model.evaluate(x_test, y_test)\n",
        "print('Test score:', score[0])\n",
        "print('Test accuracy:', score[1])"
      ],
      "metadata": {
        "colab": {
          "base_uri": "https://localhost:8080/"
        },
        "id": "_ZegcBYOsch3",
        "outputId": "19f6ae50-220a-4625-866d-90ace23bdd0f"
      },
      "execution_count": 17,
      "outputs": [
        {
          "output_type": "stream",
          "name": "stdout",
          "text": [
            "313/313 [==============================] - 7s 23ms/step - loss: 1.0887 - accuracy: 0.6090\n",
            "Test score: 1.088674545288086\n",
            "Test accuracy: 0.609000027179718\n"
          ]
        }
      ]
    },
    {
      "cell_type": "code",
      "source": [
        "Label = ['Airplane', 'Automobile', 'Bird', 'Cat', 'Deer', 'Dog', 'Frog', 'Horse', 'Ship', 'Truck']\n",
        "\n",
        "test = 2\n",
        "plt.title(\" Dự đoán đối tượng là: \" + str(Label[np.argmax(model.predict(x_pre[test].reshape(-1,32,32,3)))]))\n",
        "plt.imshow(x_pre[test], cmap=plt.get_cmap('gray'))"
      ],
      "metadata": {
        "colab": {
          "base_uri": "https://localhost:8080/",
          "height": 299
        },
        "id": "7cJ5dCxdsmQz",
        "outputId": "e4c6c847-8839-42e1-afc9-36419eecad0e"
      },
      "execution_count": 23,
      "outputs": [
        {
          "output_type": "execute_result",
          "data": {
            "text/plain": [
              "<matplotlib.image.AxesImage at 0x7fcc75884fd0>"
            ]
          },
          "metadata": {},
          "execution_count": 23
        },
        {
          "output_type": "display_data",
          "data": {
            "text/plain": [
              "<Figure size 432x288 with 1 Axes>"
            ],
            "image/png": "[encoded data removed]"
          },
          "metadata": {
            "needs_background": "light"
          }
        }
      ]
    },
    {
      "cell_type": "code",
      "source": [
        "test = 11\n",
        "plt.title(\" Dự đoán đối tượng là: \" + str(Label[np.argmax(model.predict(x_pre[test].reshape(-1,32,32,3)))]))\n",
        "plt.imshow(x_pre[test], cmap=plt.get_cmap('gray'))"
      ],
      "metadata": {
        "colab": {
          "base_uri": "https://localhost:8080/",
          "height": 299
        },
        "id": "yNtqc9swss0R",
        "outputId": "4bf2bdff-5387-4003-e2a1-1f994f3cdb4a"
      },
      "execution_count": 24,
      "outputs": [
        {
          "output_type": "execute_result",
          "data": {
            "text/plain": [
              "<matplotlib.image.AxesImage at 0x7fcc71f7dfd0>"
            ]
          },
          "metadata": {},
          "execution_count": 24
        },
        {
          "output_type": "display_data",
          "data": {
            "text/plain": [
              "<Figure size 432x288 with 1 Axes>"
            ],
            "image/png": "[encoded data removed]"
          },
          "metadata": {
            "needs_background": "light"
          }
        }
      ]
    },
    {
      "cell_type": "code",
      "source": [
        ""
      ],
      "metadata": {
        "id": "ITkiH7btswME"
      },
      "execution_count": null,
      "outputs": []
    }
  ]
}