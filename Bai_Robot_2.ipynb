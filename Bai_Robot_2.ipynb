{
  "nbformat": 4,
  "nbformat_minor": 0,
  "metadata": {
    "colab": {
      "name": "Bai_Robot_2",
      "provenance": [],
      "collapsed_sections": [],
      "authorship_tag": "ABX9TyOJKcesIYsx/i+PYTdytYEl",
      "include_colab_link": true
    },
    "kernelspec": {
      "name": "python3",
      "display_name": "Python 3"
    },
    "language_info": {
      "name": "python"
    }
  },
  "cells": [
    {
      "cell_type": "markdown",
      "metadata": {
        "id": "view-in-github",
        "colab_type": "text"
      },
      "source": [
        "<a href=\"https://colab.research.google.com/github/VanTam23/AI/blob/main/Bai_Robot_2.ipynb\" target=\"_parent\"><img src=\"https://colab.research.google.com/assets/colab-badge.svg\" alt=\"Open In Colab\"/></a>"
      ]
    },
    {
      "cell_type": "code",
      "execution_count": 5,
      "metadata": {
        "id": "iOvgUhGbmI81"
      },
      "outputs": [],
      "source": [
        "import numpy as np\n",
        "import openpyxl\n",
        "from math import cos, sin, pi\n",
        "from pandas import DataFrame\n",
        "import numpy as np\n",
        "\n",
        "l1 = 50\n",
        "l2 = 40\n",
        "l3 = 20\n",
        "theta1 = []\n",
        "theta2 = []\n",
        "px = []\n",
        "py = []\n",
        "\n",
        "for i1 in range (0,90*10):\n",
        "    for i2 in range (0,150*10):\n",
        "        t1 = i1/10\n",
        "        t2 = i2/10\n",
        "        theta1.append(t1)\n",
        "        theta2.append(t2)\n",
        "        px.append(round(l1*cos(t1*pi/180) + l2*cos((t1+t2)*pi/180),2))\n",
        "        py.append(round(l1*sin(t1*pi/180) + l2*sin((t1+t2)*pi/180),2))\n",
        "df = DataFrame(np.c_[theta1,theta2,px,py],columns = ['theta1','theta2','px','py'])\n",
        "export_csv = df.to_csv (r'2tudo.csv', index = None, header=True)\n",
        "\n",
        "\n"
      ]
    },
    {
      "cell_type": "code",
      "source": [
        "\n",
        "import pandas as pd\n",
        "import numpy as np\n",
        "import matplotlib.pyplot as plt\n",
        "from keras.models import Sequential\n",
        "from keras.layers import Dense, Dropout\n",
        "from keras.callbacks import EarlyStopping\n",
        "from sklearn.preprocessing import StandardScaler\n",
        "from sklearn.model_selection import train_test_split\n",
        "from tensorflow.keras.optimizers import RMSprop, Adam, SGD\n",
        "\n",
        "# load data\n",
        "url ='2tudo.csv'\n",
        "data = pd.read_csv(url)\n",
        "x = data.drop(['theta1', 'theta2'], axis= 1)\n",
        "y = data.drop(['px', 'py'], axis= 1)\n",
        "col_names = list(x.columns)\n",
        "s_scaler = StandardScaler()\n",
        "X_df = s_scaler.fit_transform(x)\n",
        "X_df = pd.DataFrame(X_df, columns= col_names)\n",
        "X_df.describe().T\n"
      ],
      "metadata": {
        "colab": {
          "base_uri": "https://localhost:8080/",
          "height": 112
        },
        "id": "7IzlPotCnIeT",
        "outputId": "48928285-1ef2-40dd-daa2-41c022f7b276"
      },
      "execution_count": 8,
      "outputs": [
        {
          "output_type": "execute_result",
          "data": {
            "text/plain": [
              "        count          mean  std       min       25%       50%       75%  \\\n",
              "px  1360000.0  4.227766e-15  1.0 -1.699067 -0.783547 -0.232352  0.732156   \n",
              "py  1360000.0  2.336387e-14  1.0 -2.336889 -0.793459 -0.009085  0.820766   \n",
              "\n",
              "         max  \n",
              "px  2.233909  \n",
              "py  1.846594  "
            ],
            "text/html": [
              "\n",
              "  <div id=\"df-ab0dac3c-1348-45c6-9315-5a4387ea114e\">\n",
              "    <div class=\"colab-df-container\">\n",
              "      <div>\n",
              "<style scoped>\n",
              "    .dataframe tbody tr th:only-of-type {\n",
              "        vertical-align: middle;\n",
              "    }\n",
              "\n",
              "    .dataframe tbody tr th {\n",
              "        vertical-align: top;\n",
              "    }\n",
              "\n",
              "    .dataframe thead th {\n",
              "        text-align: right;\n",
              "    }\n",
              "</style>\n",
              "<table border=\"1\" class=\"dataframe\">\n",
              "  <thead>\n",
              "    <tr style=\"text-align: right;\">\n",
              "      <th></th>\n",
              "      <th>count</th>\n",
              "      <th>mean</th>\n",
              "      <th>std</th>\n",
              "      <th>min</th>\n",
              "      <th>25%</th>\n",
              "      <th>50%</th>\n",
              "      <th>75%</th>\n",
              "      <th>max</th>\n",
              "    </tr>\n",
              "  </thead>\n",
              "  <tbody>\n",
              "    <tr>\n",
              "      <th>px</th>\n",
              "      <td>1360000.0</td>\n",
              "      <td>4.227766e-15</td>\n",
              "      <td>1.0</td>\n",
              "      <td>-1.699067</td>\n",
              "      <td>-0.783547</td>\n",
              "      <td>-0.232352</td>\n",
              "      <td>0.732156</td>\n",
              "      <td>2.233909</td>\n",
              "    </tr>\n",
              "    <tr>\n",
              "      <th>py</th>\n",
              "      <td>1360000.0</td>\n",
              "      <td>2.336387e-14</td>\n",
              "      <td>1.0</td>\n",
              "      <td>-2.336889</td>\n",
              "      <td>-0.793459</td>\n",
              "      <td>-0.009085</td>\n",
              "      <td>0.820766</td>\n",
              "      <td>1.846594</td>\n",
              "    </tr>\n",
              "  </tbody>\n",
              "</table>\n",
              "</div>\n",
              "      <button class=\"colab-df-convert\" onclick=\"convertToInteractive('df-ab0dac3c-1348-45c6-9315-5a4387ea114e')\"\n",
              "              title=\"Convert this dataframe to an interactive table.\"\n",
              "              style=\"display:none;\">\n",
              "        \n",
              "  <svg xmlns=\"http://www.w3.org/2000/svg\" height=\"24px\"viewBox=\"0 0 24 24\"\n",
              "       width=\"24px\">\n",
              "    <path d=\"M0 0h24v24H0V0z\" fill=\"none\"/>\n",
              "    <path d=\"M18.56 5.44l.94 2.06.94-2.06 2.06-.94-2.06-.94-.94-2.06-.94 2.06-2.06.94zm-11 1L8.5 8.5l.94-2.06 2.06-.94-2.06-.94L8.5 2.5l-.94 2.06-2.06.94zm10 10l.94 2.06.94-2.06 2.06-.94-2.06-.94-.94-2.06-.94 2.06-2.06.94z\"/><path d=\"M17.41 7.96l-1.37-1.37c-.4-.4-.92-.59-1.43-.59-.52 0-1.04.2-1.43.59L10.3 9.45l-7.72 7.72c-.78.78-.78 2.05 0 2.83L4 21.41c.39.39.9.59 1.41.59.51 0 1.02-.2 1.41-.59l7.78-7.78 2.81-2.81c.8-.78.8-2.07 0-2.86zM5.41 20L4 18.59l7.72-7.72 1.47 1.35L5.41 20z\"/>\n",
              "  </svg>\n",
              "      </button>\n",
              "      \n",
              "  <style>\n",
              "    .colab-df-container {\n",
              "      display:flex;\n",
              "      flex-wrap:wrap;\n",
              "      gap: 12px;\n",
              "    }\n",
              "\n",
              "    .colab-df-convert {\n",
              "      background-color: #E8F0FE;\n",
              "      border: none;\n",
              "      border-radius: 50%;\n",
              "      cursor: pointer;\n",
              "      display: none;\n",
              "      fill: #1967D2;\n",
              "      height: 32px;\n",
              "      padding: 0 0 0 0;\n",
              "      width: 32px;\n",
              "    }\n",
              "\n",
              "    .colab-df-convert:hover {\n",
              "      background-color: #E2EBFA;\n",
              "      box-shadow: 0px 1px 2px rgba(60, 64, 67, 0.3), 0px 1px 3px 1px rgba(60, 64, 67, 0.15);\n",
              "      fill: #174EA6;\n",
              "    }\n",
              "\n",
              "    [theme=dark] .colab-df-convert {\n",
              "      background-color: #3B4455;\n",
              "      fill: #D2E3FC;\n",
              "    }\n",
              "\n",
              "    [theme=dark] .colab-df-convert:hover {\n",
              "      background-color: #434B5C;\n",
              "      box-shadow: 0px 1px 3px 1px rgba(0, 0, 0, 0.15);\n",
              "      filter: drop-shadow(0px 1px 2px rgba(0, 0, 0, 0.3));\n",
              "      fill: #FFFFFF;\n",
              "    }\n",
              "  </style>\n",
              "\n",
              "      <script>\n",
              "        const buttonEl =\n",
              "          document.querySelector('#df-ab0dac3c-1348-45c6-9315-5a4387ea114e button.colab-df-convert');\n",
              "        buttonEl.style.display =\n",
              "          google.colab.kernel.accessAllowed ? 'block' : 'none';\n",
              "\n",
              "        async function convertToInteractive(key) {\n",
              "          const element = document.querySelector('#df-ab0dac3c-1348-45c6-9315-5a4387ea114e');\n",
              "          const dataTable =\n",
              "            await google.colab.kernel.invokeFunction('convertToInteractive',\n",
              "                                                     [key], {});\n",
              "          if (!dataTable) return;\n",
              "\n",
              "          const docLinkHtml = 'Like what you see? Visit the ' +\n",
              "            '<a target=\"_blank\" href=https://colab.research.google.com/notebooks/data_table.ipynb>data table notebook</a>'\n",
              "            + ' to learn more about interactive tables.';\n",
              "          element.innerHTML = '';\n",
              "          dataTable['output_type'] = 'display_data';\n",
              "          await google.colab.output.renderOutput(dataTable, element);\n",
              "          const docLink = document.createElement('div');\n",
              "          docLink.innerHTML = docLinkHtml;\n",
              "          element.appendChild(docLink);\n",
              "        }\n",
              "      </script>\n",
              "    </div>\n",
              "  </div>\n",
              "  "
            ]
          },
          "metadata": {},
          "execution_count": 8
        }
      ]
    },
    {
      "cell_type": "code",
      "source": [
        "X_train, X_test, y_train, y_test = train_test_split(X_df, y, test_size = 0.25, random_state = 7)\n",
        "print(X_train.shape, X_test.shape)\n",
        "print(X_train)\n",
        "print(X_test)\n",
        "model = Sequential()\n",
        "model.add(Dense(512, activation= 'relu', input_shape = (2,)))\n",
        "model.add(Dense(512, activation= 'relu'))))\n",
        "model.add(Dense(100, activation= 'relu'))\n",
        "model.add(Dense(50, activation = 'relu'))\n",
        "model.add(Dense(2))\n",
        "\n",
        "model.summary()\n",
        "opt = SGD(lr=0.01, momentum=0.9)\n",
        "model.compile(loss='mse', optimizer = RMSprop(), metrics = ['mean_absolute_error'])\n",
        "\n",
        "history = model.fit(X_train, y_train, batch_size = 128, epochs = 10, verbose = 1, validation_data = (X_test, y_test))\n",
        "score = model.evaluate(X_test, y_test, verbose = 0)"
      ],
      "metadata": {
        "colab": {
          "base_uri": "https://localhost:8080/"
        },
        "id": "pgmrgwvEoW4x",
        "outputId": "6efdd19f-9a10-426a-e734-a931eef8e1f0"
      },
      "execution_count": 10,
      "outputs": [
        {
          "output_type": "stream",
          "name": "stdout",
          "text": [
            "(1020000, 2) (340000, 2)\n",
            "               px        py\n",
            "1206991 -0.803985 -1.745678\n",
            "348428  -0.461070 -1.624248\n",
            "1089862  0.241305  1.620612\n",
            "807874   0.525499  1.259603\n",
            "1245177 -1.350962  0.819360\n",
            "...           ...       ...\n",
            "839891   1.047820  1.042060\n",
            "535030  -0.471776 -0.305394\n",
            "573977  -0.350442  0.133912\n",
            "1238212 -1.107645  1.251633\n",
            "585903  -0.406567  0.071087\n",
            "\n",
            "[1020000 rows x 2 columns]\n",
            "               px        py\n",
            "729502   1.089346  0.931413\n",
            "788756  -0.666754 -1.633156\n",
            "210615  -0.347198 -1.314343\n",
            "1230694 -0.997017 -1.575488\n",
            "206613   0.599467 -0.021275\n",
            "...           ...       ...\n",
            "725035  -0.256360  0.764974\n",
            "628443  -0.525955 -0.025963\n",
            "935089   0.815533  1.267573\n",
            "876321  -0.571050  0.855930\n",
            "197888   1.119517 -0.016587\n",
            "\n",
            "[340000 rows x 2 columns]\n",
            "Model: \"sequential_1\"\n",
            "_________________________________________________________________\n",
            " Layer (type)                Output Shape              Param #   \n",
            "=================================================================\n",
            " dense_16 (Dense)            (None, 100)               300       \n",
            "                                                                 \n",
            " dense_17 (Dense)            (None, 100)               10100     \n",
            "                                                                 \n",
            " dense_18 (Dense)            (None, 100)               10100     \n",
            "                                                                 \n",
            " dense_19 (Dense)            (None, 100)               10100     \n",
            "                                                                 \n",
            " dense_20 (Dense)            (None, 100)               10100     \n",
            "                                                                 \n",
            " dense_21 (Dense)            (None, 100)               10100     \n",
            "                                                                 \n",
            " dense_22 (Dense)            (None, 100)               10100     \n",
            "                                                                 \n",
            " dense_23 (Dense)            (None, 100)               10100     \n",
            "                                                                 \n",
            " dense_24 (Dense)            (None, 100)               10100     \n",
            "                                                                 \n",
            " dense_25 (Dense)            (None, 100)               10100     \n",
            "                                                                 \n",
            " dense_26 (Dense)            (None, 100)               10100     \n",
            "                                                                 \n",
            " dense_27 (Dense)            (None, 100)               10100     \n",
            "                                                                 \n",
            " dense_28 (Dense)            (None, 100)               10100     \n",
            "                                                                 \n",
            " dense_29 (Dense)            (None, 100)               10100     \n",
            "                                                                 \n",
            " dense_30 (Dense)            (None, 100)               10100     \n",
            "                                                                 \n",
            " dense_31 (Dense)            (None, 2)                 202       \n",
            "                                                                 \n",
            "=================================================================\n",
            "Total params: 141,902\n",
            "Trainable params: 141,902\n",
            "Non-trainable params: 0\n",
            "_________________________________________________________________\n",
            "Epoch 1/10\n"
          ]
        },
        {
          "output_type": "stream",
          "name": "stderr",
          "text": [
            "/usr/local/lib/python3.7/dist-packages/keras/optimizer_v2/gradient_descent.py:102: UserWarning: The `lr` argument is deprecated, use `learning_rate` instead.\n",
            "  super(SGD, self).__init__(name, **kwargs)\n"
          ]
        },
        {
          "output_type": "stream",
          "name": "stdout",
          "text": [
            "7969/7969 [==============================] - 77s 9ms/step - loss: 79.4196 - mean_absolute_error: 5.6665 - val_loss: 15.6145 - val_mean_absolute_error: 3.4018\n",
            "Epoch 2/10\n",
            "7969/7969 [==============================] - 61s 8ms/step - loss: 11.1488 - mean_absolute_error: 2.5998 - val_loss: 4.3398 - val_mean_absolute_error: 1.4466\n",
            "Epoch 3/10\n",
            "7969/7969 [==============================] - 61s 8ms/step - loss: 6.8381 - mean_absolute_error: 2.0193 - val_loss: 4.6052 - val_mean_absolute_error: 1.6460\n",
            "Epoch 4/10\n",
            "7969/7969 [==============================] - 60s 8ms/step - loss: 5.1249 - mean_absolute_error: 1.7390 - val_loss: 1.7861 - val_mean_absolute_error: 1.0865\n",
            "Epoch 5/10\n",
            "7969/7969 [==============================] - 65s 8ms/step - loss: 4.1478 - mean_absolute_error: 1.5487 - val_loss: 4.5369 - val_mean_absolute_error: 1.6687\n",
            "Epoch 6/10\n",
            "7969/7969 [==============================] - 60s 8ms/step - loss: 3.5208 - mean_absolute_error: 1.4136 - val_loss: 3.9947 - val_mean_absolute_error: 1.6909\n",
            "Epoch 7/10\n",
            "7969/7969 [==============================] - 61s 8ms/step - loss: 3.0640 - mean_absolute_error: 1.3129 - val_loss: 2.8405 - val_mean_absolute_error: 1.2161\n",
            "Epoch 8/10\n",
            "7969/7969 [==============================] - 60s 8ms/step - loss: 2.7522 - mean_absolute_error: 1.2369 - val_loss: 3.9485 - val_mean_absolute_error: 1.3698\n",
            "Epoch 9/10\n",
            "7969/7969 [==============================] - 65s 8ms/step - loss: 2.5145 - mean_absolute_error: 1.1765 - val_loss: 3.4472 - val_mean_absolute_error: 1.3136\n",
            "Epoch 10/10\n",
            "7969/7969 [==============================] - 60s 8ms/step - loss: 2.3156 - mean_absolute_error: 1.1241 - val_loss: 2.7124 - val_mean_absolute_error: 1.0828\n"
          ]
        }
      ]
    },
    {
      "cell_type": "code",
      "source": [
        "pd.DataFrame(history.history).plot(figsize= (8,5))\n",
        "plt.grid(True)\n",
        "plt.gca().set_ylim(0,30)\n",
        "plt.show()\n",
        "\n",
        "plt.plot(history.history['mean_absolute_error'])\n",
        "plt.plot(history.history['val_mean_absolute_error'])\n",
        "plt.title('model mae')\n",
        "plt.ylabel('mae')\n",
        "plt.xlabel('epoch')\n",
        "plt.legend(['train','validation'], loc = 'upper left')\n",
        "plt.show()"
      ],
      "metadata": {
        "colab": {
          "base_uri": "https://localhost:8080/",
          "height": 602
        },
        "id": "8Jz0aKQ6o4dy",
        "outputId": "dafa76c2-0d1d-4dfc-db3e-7dcec33ec560"
      },
      "execution_count": 12,
      "outputs": [
        {
          "output_type": "display_data",
          "data": {
            "text/plain": [
              "<Figure size 576x360 with 1 Axes>"
            ],
            "image/png": "[encoded data removed]"
          },
          "metadata": {
            "needs_background": "light"
          }
        },
        {
          "output_type": "display_data",
          "data": {
            "text/plain": [
              "<Figure size 432x288 with 1 Axes>"
            ],
            "image/png": "[encoded data removed]"
          },
          "metadata": {
            "needs_background": "light"
          }
        }
      ]
    },
    {
      "cell_type": "code",
      "source": [
        ""
      ],
      "metadata": {
        "id": "pfYA4Cj7tUzW"
      },
      "execution_count": null,
      "outputs": []
    }
  ]
}