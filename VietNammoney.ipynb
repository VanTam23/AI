{
  "nbformat": 4,
  "nbformat_minor": 0,
  "metadata": {
    "colab": {
      "name": "VietNammoney",
      "provenance": [],
      "collapsed_sections": [],
      "mount_file_id": "11xwWw4LS_wVBKkOouZVWVFi29-IrcJQM",
      "authorship_tag": "ABX9TyOQov+YEB/IQyWXRH3af2kw",
      "include_colab_link": true
    },
    "kernelspec": {
      "name": "python3",
      "display_name": "Python 3"
    },
    "language_info": {
      "name": "python"
    }
  },
  "cells": [
    {
      "cell_type": "markdown",
      "metadata": {
        "id": "view-in-github",
        "colab_type": "text"
      },
      "source": [
        "<a href=\"https://colab.research.google.com/github/VanTam23/AI/blob/main/VietNammoney.ipynb\" target=\"_parent\"><img src=\"https://colab.research.google.com/assets/colab-badge.svg\" alt=\"Open In Colab\"/></a>"
      ]
    },
    {
      "cell_type": "code",
      "source": [
        "import matplotlib.pyplot as plt\n",
        "from keras.utils import np_utils\n",
        "from tensorflow.keras.utils import to_categorical\n",
        "from keras.models import Sequential\n",
        "from keras.layers.convolutional import Conv2D, MaxPooling2D\n",
        "from tensorflow.keras.optimizers import SGD, RMSprop\n",
        "from keras.layers import Dense,Flatten, Dropout\n",
        "import numpy as np\n",
        "from tensorflow.keras.preprocessing.image import ImageDataGenerator\n",
        "from tensorflow.keras.preprocessing import image"
      ],
      "metadata": {
        "id": "mrZHe1vhSaSV"
      },
      "execution_count": null,
      "outputs": []
    },
    {
      "cell_type": "markdown",
      "source": [
        ""
      ],
      "metadata": {
        "id": "Z-hdYyfYkseo"
      }
    },
    {
      "cell_type": "code",
      "source": [
        "#Link Train va test\n",
        "train_path = '/content/drive/MyDrive/DataTienVN/'"
      ],
      "metadata": {
        "id": "aYaERv4WScvk"
      },
      "execution_count": null,
      "outputs": []
    },
    {
      "cell_type": "code",
      "source": [
        "train = ImageDataGenerator(rescale = 1./255,\n",
        "                           width_shift_range=0.2,\n",
        "                           rotation_range=40,\n",
        "                           shear_range=0.2,\n",
        "                           height_shift_range=0.2,\n",
        "                           zoom_range=0.2,\n",
        "                           fill_mode='nearest',\n",
        "                           horizontal_flip=True)\n",
        "validation = ImageDataGenerator(rescale = 1./255)\n",
        "\n",
        "train_data = train.flow_from_directory('/content/drive/MyDrive/DataTienVN/T',\n",
        "                                       target_size = (700,300),\n",
        "                                       class_mode = 'categorical')\n",
        "validation_dataset = train.flow_from_directory('/content/drive/MyDrive/DataTienVN/V',\n",
        "                                       target_size = (700,300),\n",
        "                                       class_mode = 'categorical')\n"
      ],
      "metadata": {
        "colab": {
          "base_uri": "https://localhost:8080/"
        },
        "id": "aLdUzfmSUbqw",
        "outputId": "74a1e35c-ecf6-4031-dddb-55f6204c54ee"
      },
      "execution_count": null,
      "outputs": [
        {
          "output_type": "stream",
          "name": "stdout",
          "text": [
            "Found 441 images belonging to 10 classes.\n",
            "Found 484 images belonging to 10 classes.\n"
          ]
        }
      ]
    },
    {
      "cell_type": "code",
      "source": [
        "model = Sequential()\n",
        "model.add(Conv2D(32,(3,3),activation='relu',kernel_initializer='he_uniform',padding ='same',input_shape=(700,300,3)))\n",
        "model.add(MaxPooling2D((2,2)))\n",
        "\n",
        "model.add(Conv2D(32,(3,3),activation='relu',kernel_initializer='he_uniform',padding ='same'))\n",
        "model.add(MaxPooling2D((2,2)))\n",
        "\n",
        "model.add(Flatten())\n",
        "model.add(Dense(64,activation='relu',kernel_initializer='he_uniform'))\n",
        "model.add(Dropout(0.2))\n",
        "model.add(Dense(10,activation='softmax'))\n",
        "\n",
        "model.compile(optimizer='adam',loss='categorical_crossentropy',metrics=['accuracy'])\n",
        "history = model.fit(train_data,epochs=15,batch_size=128,validation_data=validation_dataset,verbose=1)"
      ],
      "metadata": {
        "colab": {
          "base_uri": "https://localhost:8080/"
        },
        "id": "SipqGO6QZiIU",
        "outputId": "1b5dc0d8-d5fd-4f98-bf66-ee6fa6079f92"
      },
      "execution_count": 3,
      "outputs": [
        {
          "output_type": "stream",
          "name": "stdout",
          "text": [
            "Epoch 1/15\n",
            "14/14 [==============================] - 173s 12s/step - loss: 80.2641 - accuracy: 0.1293 - val_loss: 3.9383 - val_accuracy: 0.1116\n",
            "Epoch 2/15\n",
            "14/14 [==============================] - 157s 11s/step - loss: 2.4900 - accuracy: 0.1202 - val_loss: 2.2792 - val_accuracy: 0.1116\n",
            "Epoch 3/15\n",
            "14/14 [==============================] - 158s 11s/step - loss: 2.2818 - accuracy: 0.1791 - val_loss: 2.1643 - val_accuracy: 0.2066\n",
            "Epoch 4/15\n",
            "14/14 [==============================] - 162s 12s/step - loss: 2.1335 - accuracy: 0.1837 - val_loss: 2.1269 - val_accuracy: 0.2645\n",
            "Epoch 5/15\n",
            "14/14 [==============================] - 157s 11s/step - loss: 1.9828 - accuracy: 0.2630 - val_loss: 1.7933 - val_accuracy: 0.2831\n",
            "Epoch 6/15\n",
            "14/14 [==============================] - 158s 11s/step - loss: 1.8138 - accuracy: 0.3175 - val_loss: 1.5897 - val_accuracy: 0.4029\n",
            "Epoch 7/15\n",
            "14/14 [==============================] - 163s 12s/step - loss: 1.5797 - accuracy: 0.4127 - val_loss: 1.3407 - val_accuracy: 0.5021\n",
            "Epoch 8/15\n",
            "14/14 [==============================] - 158s 11s/step - loss: 1.3579 - accuracy: 0.5057 - val_loss: 1.2622 - val_accuracy: 0.6715\n",
            "Epoch 9/15\n",
            "14/14 [==============================] - 158s 11s/step - loss: 1.2019 - accuracy: 0.6009 - val_loss: 1.1484 - val_accuracy: 0.6426\n",
            "Epoch 10/15\n",
            "14/14 [==============================] - 191s 14s/step - loss: 1.1654 - accuracy: 0.5896 - val_loss: 0.9685 - val_accuracy: 0.7107\n",
            "Epoch 11/15\n",
            "14/14 [==============================] - 164s 12s/step - loss: 1.0811 - accuracy: 0.6054 - val_loss: 0.9248 - val_accuracy: 0.7417\n",
            "Epoch 12/15\n",
            "14/14 [==============================] - 159s 11s/step - loss: 1.0182 - accuracy: 0.6531 - val_loss: 0.7525 - val_accuracy: 0.7872\n",
            "Epoch 13/15\n",
            "14/14 [==============================] - 159s 11s/step - loss: 0.8748 - accuracy: 0.6961 - val_loss: 0.6569 - val_accuracy: 0.8202\n",
            "Epoch 14/15\n",
            "14/14 [==============================] - 164s 12s/step - loss: 0.8641 - accuracy: 0.6825 - val_loss: 0.6246 - val_accuracy: 0.8037\n",
            "Epoch 15/15\n",
            "14/14 [==============================] - 159s 11s/step - loss: 0.8564 - accuracy: 0.6848 - val_loss: 0.6848 - val_accuracy: 0.7831\n"
          ]
        }
      ]
    },
    {
      "cell_type": "code",
      "source": [
        "model.summary()"
      ],
      "metadata": {
        "id": "b96Pvji0aWZr",
        "colab": {
          "base_uri": "https://localhost:8080/"
        },
        "outputId": "2e7b2226-4565-48e1-ba3a-ba785cdaab44"
      },
      "execution_count": 4,
      "outputs": [
        {
          "output_type": "stream",
          "name": "stdout",
          "text": [
            "Model: \"sequential\"\n",
            "_________________________________________________________________\n",
            " Layer (type)                Output Shape              Param #   \n",
            "=================================================================\n",
            " conv2d (Conv2D)             (None, 700, 300, 32)      896       \n",
            "                                                                 \n",
            " max_pooling2d (MaxPooling2D  (None, 350, 150, 32)     0         \n",
            " )                                                               \n",
            "                                                                 \n",
            " conv2d_1 (Conv2D)           (None, 350, 150, 32)      9248      \n",
            "                                                                 \n",
            " max_pooling2d_1 (MaxPooling  (None, 175, 75, 32)      0         \n",
            " 2D)                                                             \n",
            "                                                                 \n",
            " flatten (Flatten)           (None, 420000)            0         \n",
            "                                                                 \n",
            " dense (Dense)               (None, 64)                26880064  \n",
            "                                                                 \n",
            " dropout (Dropout)           (None, 64)                0         \n",
            "                                                                 \n",
            " dense_1 (Dense)             (None, 10)                650       \n",
            "                                                                 \n",
            "=================================================================\n",
            "Total params: 26,890,858\n",
            "Trainable params: 26,890,858\n",
            "Non-trainable params: 0\n",
            "_________________________________________________________________\n"
          ]
        }
      ]
    },
    {
      "cell_type": "code",
      "source": [
        "score = model.evaluate(validation_dataset,verbose=0)\n",
        "print('Sai số kiểm tra là: ',score[0])\n",
        "print('độ chính xác kiểm tra là: ',score[1])"
      ],
      "metadata": {
        "id": "oXOlhnUkdTRq",
        "colab": {
          "base_uri": "https://localhost:8080/"
        },
        "outputId": "9aa0f78e-3100-47bd-deba-8ff6b735e038"
      },
      "execution_count": 8,
      "outputs": [
        {
          "output_type": "stream",
          "name": "stdout",
          "text": [
            "Sai số kiểm tra là:  0.6919183135032654\n",
            "độ chính xác kiểm tra là:  0.7768595218658447\n"
          ]
        }
      ]
    },
    {
      "cell_type": "code",
      "source": [
        "plt.plot(history.history['accuracy'])\n",
        "plt.plot(history.history['val_accuracy'])\n",
        "plt.title('accuracy of Tien Vn')\n",
        "plt.ylabel('accuracy')\n",
        "plt.xlabel('epoch')\n",
        "plt.legend(['train','validation'],loc='upper left')\n",
        "plt.show()"
      ],
      "metadata": {
        "id": "xKVnv0tpdezA"
      },
      "execution_count": null,
      "outputs": []
    },
    {
      "cell_type": "code",
      "source": [
        ""
      ],
      "metadata": {
        "id": "edYg0YVzkwYj"
      },
      "execution_count": 7,
      "outputs": []
    }
  ]
}